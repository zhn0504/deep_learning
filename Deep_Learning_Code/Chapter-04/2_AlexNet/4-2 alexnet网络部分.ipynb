{
 "cells": [
  {
   "cell_type": "code",
   "id": "initial_id",
   "metadata": {
    "collapsed": true,
    "ExecuteTime": {
     "end_time": "2025-05-03T15:28:42.666302Z",
     "start_time": "2025-05-03T15:28:40.241343Z"
    }
   },
   "source": [
    "import torch\n",
    "import torch.nn as nn\n",
    "from torchinfo import summary"
   ],
   "outputs": [],
   "execution_count": 1
  },
  {
   "metadata": {
    "ExecuteTime": {
     "end_time": "2025-05-03T15:29:10.682807Z",
     "start_time": "2025-05-03T15:29:10.098758Z"
    }
   },
   "cell_type": "code",
   "source": [
    "class AlexNet(nn.Module):\n",
    "    def __init__(self, num_classes=1000, dropout=0.5):\n",
    "        super().__init__()\n",
    "        # 定义卷积层\n",
    "        self.features = nn.Sequential(\n",
    "            # 卷积+ReLU+最大池化\n",
    "            nn.Conv2d(3, 64, kernel_size=11, stride=4, padding=2),\n",
    "            nn.ReLU(inplace=True),\n",
    "            nn.MaxPool2d(kernel_size=3, stride=2),\n",
    "            # 卷积+ReLU+最大池化\n",
    "            nn.Conv2d(64, 192, kernel_size=5, padding=2),\n",
    "            nn.ReLU(inplace=True),\n",
    "            nn.MaxPool2d(kernel_size=3, stride=2),\n",
    "            # 卷积+ReLU\n",
    "            nn.Conv2d(192, 384, kernel_size=3, padding=1),\n",
    "            nn.ReLU(inplace=True),\n",
    "            # 卷积+ReLU\n",
    "            nn.Conv2d(384, 256, kernel_size=3, padding=1),\n",
    "            nn.ReLU(inplace=True),\n",
    "            # 卷积+ReLU\n",
    "            nn.Conv2d(256, 256, kernel_size=3, padding=1),\n",
    "            nn.ReLU(inplace=True),\n",
    "            # 最大池化\n",
    "            nn.MaxPool2d(kernel_size=3, stride=2),\n",
    "        )\n",
    "        # 定义全连接层\n",
    "        self.classifier = nn.Sequential(\n",
    "            # Dropout+全连接层+ReLU\n",
    "            nn.Dropout(p=dropout),\n",
    "            nn.Linear(256 * 6 * 6, 4096),\n",
    "            nn.ReLU(inplace=True),\n",
    "            # Dropout+全连接层+ReLU\n",
    "            nn.Dropout(p=dropout),\n",
    "            nn.Linear(4096, 4096),\n",
    "            nn.ReLU(inplace=True),\n",
    "            # 全连接层\n",
    "            nn.Linear(4096, num_classes),\n",
    "        )\n",
    "\n",
    "    # 定义前向传播函数\n",
    "    def forward(self, x):\n",
    "        # 先经过feature提取特征\n",
    "        print(\"Input shape:\\t\", x.size())\n",
    "        for layer in self.features:\n",
    "            x = layer(x)\n",
    "            print(layer.__class__.__name__, 'Output shape:\\t', x.size())\n",
    "        # 对特征图进行展平操作\n",
    "        x = torch.flatten(x, 1)\n",
    "        print(\"Flatten Output shape:\\t\", x.size())\n",
    "        # 送入全连接层\n",
    "        for layer in self.classifier:\n",
    "            x = layer(x)\n",
    "            print(layer.__class__.__name__, 'Output shape:\\t', x.size())\n",
    "        return x\n",
    "\n",
    "\n",
    "# 实例化 AlexNet 类\n",
    "alexnet = AlexNet()\n",
    "\n",
    "# 生成输入张量\n",
    "x = torch.randn(1, 3, 224, 224)\n",
    "\n",
    "# 进行前向传播\n",
    "output = alexnet(x)"
   ],
   "id": "e37afe6949cf78e0",
   "outputs": [
    {
     "name": "stdout",
     "output_type": "stream",
     "text": [
      "Input shape:\t torch.Size([1, 3, 224, 224])\n",
      "Conv2d Output shape:\t torch.Size([1, 64, 55, 55])\n",
      "ReLU Output shape:\t torch.Size([1, 64, 55, 55])\n",
      "MaxPool2d Output shape:\t torch.Size([1, 64, 27, 27])\n",
      "Conv2d Output shape:\t torch.Size([1, 192, 27, 27])\n",
      "ReLU Output shape:\t torch.Size([1, 192, 27, 27])\n",
      "MaxPool2d Output shape:\t torch.Size([1, 192, 13, 13])\n",
      "Conv2d Output shape:\t torch.Size([1, 384, 13, 13])\n",
      "ReLU Output shape:\t torch.Size([1, 384, 13, 13])\n",
      "Conv2d Output shape:\t torch.Size([1, 256, 13, 13])\n",
      "ReLU Output shape:\t torch.Size([1, 256, 13, 13])\n",
      "Conv2d Output shape:\t torch.Size([1, 256, 13, 13])\n",
      "ReLU Output shape:\t torch.Size([1, 256, 13, 13])\n",
      "MaxPool2d Output shape:\t torch.Size([1, 256, 6, 6])\n",
      "Flatten Output shape:\t torch.Size([1, 9216])\n",
      "Dropout Output shape:\t torch.Size([1, 9216])\n",
      "Linear Output shape:\t torch.Size([1, 4096])\n",
      "ReLU Output shape:\t torch.Size([1, 4096])\n",
      "Dropout Output shape:\t torch.Size([1, 4096])\n",
      "Linear Output shape:\t torch.Size([1, 4096])\n",
      "ReLU Output shape:\t torch.Size([1, 4096])\n",
      "Linear Output shape:\t torch.Size([1, 1000])\n"
     ]
    }
   ],
   "execution_count": 2
  },
  {
   "metadata": {},
   "cell_type": "code",
   "outputs": [],
   "execution_count": null,
   "source": "",
   "id": "a8fb3fbdaeaac966"
  }
 ],
 "metadata": {
  "kernelspec": {
   "display_name": "Python 3",
   "language": "python",
   "name": "python3"
  },
  "language_info": {
   "codemirror_mode": {
    "name": "ipython",
    "version": 2
   },
   "file_extension": ".py",
   "mimetype": "text/x-python",
   "name": "python",
   "nbconvert_exporter": "python",
   "pygments_lexer": "ipython2",
   "version": "2.7.6"
  }
 },
 "nbformat": 4,
 "nbformat_minor": 5
}
